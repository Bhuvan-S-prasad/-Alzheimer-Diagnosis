{
 "cells": [
  {
   "cell_type": "code",
   "execution_count": 1,
   "metadata": {},
   "outputs": [],
   "source": [
    "import pandas as pd\n",
    "from sklearn.model_selection import train_test_split\n",
    "from sklearn.preprocessing import StandardScaler, OneHotEncoder\n",
    "from sklearn.compose import ColumnTransformer\n",
    "from sklearn.pipeline import Pipeline\n",
    "import yaml\n",
    "import joblib"
   ]
  },
  {
   "cell_type": "code",
   "execution_count": 2,
   "metadata": {},
   "outputs": [],
   "source": [
    "with open(r\"C:\\Users\\bhuva\\Desktop\\Alziemer\\config.yaml\", \"r\") as f:\n",
    "    config = yaml.safe_load(f)\n",
    "DATASET_PATH = config[\"data_path\"]\n",
    "TARGET_VARIABLE = config[\"target_variable\"]\n",
    "CATEGORICAL_FEATURES = config[\"categorical_features\"] \n",
    "NUMERICAL_FEATURES = config[\"numerical_features\"]     \n",
    "TEST_SIZE = config[\"test_size\"]\n",
    "RANDOM_STATE = config[\"random_state\"]\n",
    "PROCESSED_DATA_DIR = config[\"processed_data_dir\"] \n",
    "MODEL_DIR = config[\"model_dir\"] "
   ]
  },
  {
   "cell_type": "code",
   "execution_count": 3,
   "metadata": {},
   "outputs": [],
   "source": [
    "def preprocess_and_split_data(data_path, target_column, categorical_cols, numerical_cols, test_size, random_state, processed_data_dir, model_dir):\n",
    "    df = pd.read_csv(data_path)\n",
    "\n",
    "    #target variable encoding\n",
    "    df[target_column] = df[target_column].map({'Yes': 1, 'No': 0})\n",
    "\n",
    "    #Preprocessing Pipeline \n",
    "    preprocessor = ColumnTransformer(\n",
    "        transformers=[\n",
    "            ('num', StandardScaler(), numerical_cols), # Scale transformer for numerical features\n",
    "            ('cat', OneHotEncoder(handle_unknown='ignore'), categorical_cols) # One-hot encoding categorical data\n",
    "        ],\n",
    "        remainder='passthrough' \n",
    "    )\n",
    "\n",
    "    X = df.drop(columns=[target_column])\n",
    "    y = df[target_column]\n",
    "\n",
    "    #Split Data \n",
    "    X_train, X_temp, y_train, y_temp = train_test_split(X, y, test_size=test_size, random_state=random_state, stratify=y) # Initial train/temp split\n",
    "    X_val, X_test, y_val, y_test = train_test_split(X_temp, y_temp, test_size=0.5, random_state=random_state, stratify=y_temp) # Split temp into val/test\n",
    "\n",
    "    #Fit and Transform Preprocessor on training data \n",
    "    X_train_processed = preprocessor.fit_transform(X_train) # Fit on train, transform train\n",
    "    X_val_processed = preprocessor.transform(X_val)       # Transform val using fitted preprocessor\n",
    "    X_test_processed = preprocessor.transform(X_test)      # Transform test using fitted preprocessor\n",
    "\n",
    "    #feature names after one-hot encoding \n",
    "    categorical_feature_names = preprocessor.named_transformers_['cat'].get_feature_names_out(categorical_cols)\n",
    "    all_feature_names = numerical_cols + categorical_feature_names.tolist()  \n",
    "      \n",
    "    #Converting processed data back to DataFrames \n",
    "    X_train_processed_df = pd.DataFrame(X_train_processed, columns=all_feature_names, index=X_train.index) # Keep original index if needed\n",
    "    X_val_processed_df = pd.DataFrame(X_val_processed, columns=all_feature_names, index=X_val.index)\n",
    "    X_test_processed_df = pd.DataFrame(X_test_processed, columns=all_feature_names, index=X_test.index)\n",
    "\n",
    "   \n",
    "    return X_train_processed_df, X_val_processed_df, X_test_processed_df, y_train, y_val, y_test, preprocessor, all_feature_names\n"
   ]
  },
  {
   "cell_type": "code",
   "execution_count": 4,
   "metadata": {},
   "outputs": [
    {
     "name": "stdout",
     "output_type": "stream",
     "text": [
      "Data preprocessing and split completed. Processed data and preprocessor saved to 'data/processed/' and 'models/' directories.\n"
     ]
    }
   ],
   "source": [
    "if __name__ == \"__main__\":\n",
    "    X_train_processed, X_val_processed, X_test_processed, y_train, y_val, y_test, preprocessor_obj, feature_names = preprocess_and_split_data(\n",
    "        DATASET_PATH, TARGET_VARIABLE, CATEGORICAL_FEATURES, NUMERICAL_FEATURES, TEST_SIZE, RANDOM_STATE, PROCESSED_DATA_DIR, MODEL_DIR\n",
    "    )\n",
    "\n",
    "    # Save processed data and preprocessor object Artifact Management\n",
    "    X_train_processed.to_csv(f\"{PROCESSED_DATA_DIR}/X_train_processed.csv\", index=False)\n",
    "    X_val_processed.to_csv(f\"{PROCESSED_DATA_DIR}/X_val_processed.csv\", index=False)\n",
    "    X_test_processed.to_csv(f\"{PROCESSED_DATA_DIR}/X_test_processed.csv\", index=False)\n",
    "    y_train.to_csv(f\"{PROCESSED_DATA_DIR}/y_train.csv\", index=False)\n",
    "    y_val.to_csv(f\"{PROCESSED_DATA_DIR}/y_val.csv\", index=False)\n",
    "    y_test.to_csv(f\"{PROCESSED_DATA_DIR}/y_test.csv\", index=False)\n",
    "\n",
    "    joblib.dump(preprocessor_obj, f\"{MODEL_DIR}/preprocessor.joblib\") # Save preprocessor for deployment\n",
    "    joblib.dump(feature_names, f\"{MODEL_DIR}/feature_names.joblib\") # Save feature names for later use\n",
    "    print(\"Data preprocessing and split completed. Processed data and preprocessor saved to 'data/processed/' and 'models/' directories.\")"
   ]
  }
 ],
 "metadata": {
  "kernelspec": {
   "display_name": "Python 3",
   "language": "python",
   "name": "python3"
  },
  "language_info": {
   "codemirror_mode": {
    "name": "ipython",
    "version": 3
   },
   "file_extension": ".py",
   "mimetype": "text/x-python",
   "name": "python",
   "nbconvert_exporter": "python",
   "pygments_lexer": "ipython3",
   "version": "3.11.2"
  }
 },
 "nbformat": 4,
 "nbformat_minor": 2
}
